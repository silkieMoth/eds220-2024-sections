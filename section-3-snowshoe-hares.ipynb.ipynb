{
 "cells": [
  {
   "cell_type": "markdown",
   "id": "8e07b51a-2622-4015-a25f-235069783ec6",
   "metadata": {},
   "source": [
    "![hare](https://upload.wikimedia.org/wikipedia/commons/thumb/8/8a/SNOWSHOE_HARE_%28Lepus_americanus%29_%285-28-2015%29_quoddy_head%2C_washington_co%2C_maine_-01_%2818988734889%29.jpg/726px-SNOWSHOE_HARE_%28Lepus_americanus%29_%285-28-2015%29_quoddy_head%2C_washington_co%2C_maine_-01_%2818988734889%29.jpg?20170313021652)"
   ]
  },
  {
   "cell_type": "markdown",
   "id": "f58ee8b6-a328-4767-8c23-125895fe87fe",
   "metadata": {},
   "source": [
    "Author: Alan Schmierer"
   ]
  },
  {
   "cell_type": "code",
   "execution_count": 3,
   "id": "4c3a69d1-81f3-4f00-9899-fc850e2c1d1a",
   "metadata": {
    "tags": []
   },
   "outputs": [],
   "source": [
    "import pandas as pd\n",
    "\n",
    "url = \"https://portal.edirepository.org/nis/dataviewer?packageid=knb-lter-bnz.55.22&entityid=f01f5d71be949b8c700b6ecd1c42c701\"\n",
    "bunny = pd.read_csv(url)"
   ]
  },
  {
   "cell_type": "code",
   "execution_count": 26,
   "id": "9b897828-d965-4661-91cf-a1e0eee2bff5",
   "metadata": {
    "tags": []
   },
   "outputs": [
    {
     "data": {
      "text/plain": [
       "['date',\n",
       " 'time',\n",
       " 'grid',\n",
       " 'trap',\n",
       " 'l_ear',\n",
       " 'r_ear',\n",
       " 'sex',\n",
       " 'age',\n",
       " 'weight',\n",
       " 'hindft',\n",
       " 'notes',\n",
       " 'b_key',\n",
       " 'session_id',\n",
       " 'study']"
      ]
     },
     "execution_count": 26,
     "metadata": {},
     "output_type": "execute_result"
    }
   ],
   "source": [
    "list(bunny.columns)"
   ]
  },
  {
   "cell_type": "code",
   "execution_count": 13,
   "id": "1e92f0e2-ff95-4c00-82e3-cffe2f29eafb",
   "metadata": {
    "tags": []
   },
   "outputs": [
    {
     "data": {
      "text/plain": [
       "(3380, 14)"
      ]
     },
     "execution_count": 13,
     "metadata": {},
     "output_type": "execute_result"
    }
   ],
   "source": [
    "bunny.shape"
   ]
  },
  {
   "cell_type": "code",
   "execution_count": 21,
   "id": "ddaf9233-86ac-4c75-ba89-13478fe818cb",
   "metadata": {
    "tags": []
   },
   "outputs": [
    {
     "data": {
      "text/plain": [
       "date             0\n",
       "time          3116\n",
       "grid             0\n",
       "trap            12\n",
       "l_ear           48\n",
       "r_ear          169\n",
       "sex            352\n",
       "age           2111\n",
       "weight         535\n",
       "hindft        1747\n",
       "notes         3137\n",
       "b_key           47\n",
       "session_id       0\n",
       "study          163\n",
       "dtype: int64"
      ]
     },
     "execution_count": 21,
     "metadata": {},
     "output_type": "execute_result"
    }
   ],
   "source": [
    "bunny.isna().sum()"
   ]
  },
  {
   "cell_type": "code",
   "execution_count": 31,
   "id": "7574dd07-13f2-41c0-9228-2f054eb3cfad",
   "metadata": {
    "tags": []
   },
   "outputs": [
    {
     "data": {
      "text/plain": [
       "160.0"
      ]
     },
     "execution_count": 31,
     "metadata": {},
     "output_type": "execute_result"
    }
   ],
   "source": [
    "bunny['hindft'].max()"
   ]
  },
  {
   "cell_type": "code",
   "execution_count": 32,
   "id": "a954ba75-5036-4ce7-9e60-c4ae17d06356",
   "metadata": {
    "tags": []
   },
   "outputs": [
    {
     "data": {
      "text/plain": [
       "60.0"
      ]
     },
     "execution_count": 32,
     "metadata": {},
     "output_type": "execute_result"
    }
   ],
   "source": [
    "bunny['hindft'].min()"
   ]
  },
  {
   "cell_type": "code",
   "execution_count": 33,
   "id": "eced8299-b302-4764-9d94-153e504aba60",
   "metadata": {
    "tags": []
   },
   "outputs": [
    {
     "data": {
      "text/plain": [
       "2365.0"
      ]
     },
     "execution_count": 33,
     "metadata": {},
     "output_type": "execute_result"
    }
   ],
   "source": [
    "bunny['weight'].max()"
   ]
  },
  {
   "cell_type": "code",
   "execution_count": 34,
   "id": "4481734c-c25a-457c-9a12-1c5499e85218",
   "metadata": {
    "tags": []
   },
   "outputs": [
    {
     "data": {
      "text/plain": [
       "0.0"
      ]
     },
     "execution_count": 34,
     "metadata": {},
     "output_type": "execute_result"
    }
   ],
   "source": [
    "bunny['weight'].min()"
   ]
  },
  {
   "cell_type": "code",
   "execution_count": null,
   "id": "fb241336-f27d-44a0-913a-95c1e9feb8d4",
   "metadata": {},
   "outputs": [],
   "source": []
  }
 ],
 "metadata": {
  "kernelspec": {
   "display_name": "Anaconda 3 (Base)",
   "language": "python",
   "name": "base"
  },
  "language_info": {
   "codemirror_mode": {
    "name": "ipython",
    "version": 3
   },
   "file_extension": ".py",
   "mimetype": "text/x-python",
   "name": "python",
   "nbconvert_exporter": "python",
   "pygments_lexer": "ipython3",
   "version": "3.9.13"
  }
 },
 "nbformat": 4,
 "nbformat_minor": 5
}
