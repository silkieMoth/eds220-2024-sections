{
 "cells": [
  {
   "cell_type": "markdown",
   "id": "93ea7671-5c38-478b-a563-f25a7f674ce4",
   "metadata": {},
   "source": [
    "## Archive Exploration\n",
    "\n",
    "1. What is this data about?\n",
    "    - occurance data for arthropod, as well as data for a variety of biotic and abiotic factors\n",
    "2. Is this data collected in-situ by the authors or is it a synthesis of multiple datasets?\n",
    "    - synthesis of multiple datasets\n",
    "3. During what time frame were the observations in the dataset collected?\n",
    "    - 2011 - 2019? (derived from the earliest and latest years of citations listed of datasets from the paper the compilation is derived from)\n",
    "4. Does this dataset come with an associated metadata file?\n",
    "    - yes\n",
    "5. Does the dataset contain sensitive data?\n",
    "    - no\n"
   ]
  },
  {
   "cell_type": "code",
   "execution_count": 1,
   "id": "ef9ee547-5609-4257-942d-a6d4b28015b7",
   "metadata": {
    "tags": []
   },
   "outputs": [],
   "source": [
    "import pandas as pd"
   ]
  },
  {
   "cell_type": "code",
   "execution_count": 5,
   "id": "efcd2cc0-e128-427f-b182-ac90f0b2a54e",
   "metadata": {
    "tags": []
   },
   "outputs": [],
   "source": [
    "metadata = pd.read_csv(\"https://knb.ecoinformatics.org/knb/d1/mn/v2/object/urn%3Auuid%3A3baf7289-bf90-4db3-ad11-58785c09b26e\")\n",
    "prey = pd.read_csv(\"https://knb.ecoinformatics.org/knb/d1/mn/v2/object/urn%3Auuid%3A23d42528-1048-45d4-85d1-7e13b666e744\")"
   ]
  },
  {
   "cell_type": "code",
   "execution_count": null,
   "id": "d0000525-8b2e-4531-9071-b44b3c7814e5",
   "metadata": {},
   "outputs": [],
   "source": []
  }
 ],
 "metadata": {
  "kernelspec": {
   "display_name": "Anaconda 3 (Base)",
   "language": "python",
   "name": "base"
  },
  "language_info": {
   "codemirror_mode": {
    "name": "ipython",
    "version": 3
   },
   "file_extension": ".py",
   "mimetype": "text/x-python",
   "name": "python",
   "nbconvert_exporter": "python",
   "pygments_lexer": "ipython3",
   "version": "3.9.13"
  }
 },
 "nbformat": 4,
 "nbformat_minor": 5
}
